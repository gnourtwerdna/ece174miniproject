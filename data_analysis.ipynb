{
 "cells": [
  {
   "cell_type": "markdown",
   "metadata": {},
   "source": [
    "## Imports"
   ]
  },
  {
   "cell_type": "code",
   "execution_count": 1,
   "metadata": {},
   "outputs": [],
   "source": [
    "import numpy as np\n",
    "import util\n",
    "import LinearRegression"
   ]
  },
  {
   "cell_type": "markdown",
   "metadata": {},
   "source": [
    "## Data Loading and Processing"
   ]
  },
  {
   "cell_type": "code",
   "execution_count": 5,
   "metadata": {},
   "outputs": [],
   "source": [
    "X_train, y_train = util.load_data('data/mnist.mat')\n",
    "X_test, y_test = util.load_data('data/mnist.mat', train = False)\n",
    "X_train = util.normalize(X_train)\n",
    "X_test = util.normalize(X_test)\n",
    "X_train = util.append_bias(X_train)\n",
    "X_test = util.append_bias(X_test)"
   ]
  },
  {
   "cell_type": "markdown",
   "metadata": {},
   "source": [
    "## Binary Classification"
   ]
  },
  {
   "cell_type": "code",
   "execution_count": 6,
   "metadata": {},
   "outputs": [
    {
     "name": "stdout",
     "output_type": "stream",
     "text": [
      "Accuracy: 0.5361702127659574\n"
     ]
    }
   ],
   "source": [
    "X_train_binary, y_train_binary = util.generate_binary_dataset(X_train, y_train, 0, 1)\n",
    "X_test_binary, y_test_binary = util.generate_binary_dataset(X_test, y_test, 0, 1)\n",
    "lr = LinearRegression.LinearRegression('binary')\n",
    "lr.fit(X_train_binary, y_train_binary)\n",
    "y_pred_binary = lr.predict(X_test_binary)\n",
    "acc = lr.accuracy_score(y_test_binary, y_pred_binary)\n",
    "print('Accuracy: {}'.format(acc))\n"
   ]
  },
  {
   "cell_type": "markdown",
   "metadata": {},
   "source": [
    "## One vs. Rest Multi-Class Classification"
   ]
  },
  {
   "cell_type": "code",
   "execution_count": 8,
   "metadata": {},
   "outputs": [
    {
     "name": "stdout",
     "output_type": "stream",
     "text": [
      "Accuracy: 0.8603\n"
     ]
    }
   ],
   "source": [
    "num_classes = 10\n",
    "y_train_onehot = util.onehot_encode(y_train, num_classes)\n",
    "lr = LinearRegression.LinearRegression('ovr')\n",
    "lr.fit(X_train, y_train_onehot)\n",
    "y_pred = lr.predict(X_test)\n",
    "print('Accuracy: {}'.format(lr.accuracy_score(y_test, y_pred)))"
   ]
  },
  {
   "cell_type": "markdown",
   "metadata": {},
   "source": [
    "## One vs. One Multi-Class Classification"
   ]
  },
  {
   "cell_type": "code",
   "execution_count": 9,
   "metadata": {},
   "outputs": [
    {
     "name": "stdout",
     "output_type": "stream",
     "text": [
      "Accuracy: 0.1005049\n"
     ]
    }
   ],
   "source": [
    "votes = np.zeros((y_test.shape[0], 10))\n",
    "classifiers = util.generate_classifiers(num_classes)\n",
    "lr = LinearRegression.LinearRegression('binary')\n",
    "\n",
    "for classifier in classifiers:\n",
    "    X_train_temp, y_train_temp = util.generate_binary_dataset(X_train, y_train, classifier[0], classifier[1])\n",
    "    X_test_temp, y_test_temp = util.generate_binary_dataset(X_test, y_test, classifier[0], classifier[1])\n",
    "    idxs = util.generate_binary_index(X_test, y_test, classifier[0], classifier[1])\n",
    "    lr.fit(X_train_temp, y_train_temp)\n",
    "    y_pred = lr.predict(X_test_temp)\n",
    "\n",
    "    for pred, idx in zip(y_pred, idxs):\n",
    "        if pred.any() == 1:\n",
    "            votes[idx][classifier[0]] += 1\n",
    "        if pred.any() == -1:\n",
    "            votes[idx][classifier[1]] += 1\n",
    "\n",
    "y_pred = np.zeros((y_test.shape[0]))\n",
    "\n",
    "for i in range(votes.shape[0]):\n",
    "    y_pred[i] = np.random.choice(np.where(votes[i] == votes[i].max())[0])\n",
    "print('Accuracy: {}'.format(lr.accuracy_score(y_test, y_pred)))"
   ]
  },
  {
   "cell_type": "code",
   "execution_count": null,
   "metadata": {},
   "outputs": [],
   "source": []
  }
 ],
 "metadata": {
  "kernelspec": {
   "display_name": "Python 3.10.6 ('nnets')",
   "language": "python",
   "name": "python3"
  },
  "language_info": {
   "codemirror_mode": {
    "name": "ipython",
    "version": 3
   },
   "file_extension": ".py",
   "mimetype": "text/x-python",
   "name": "python",
   "nbconvert_exporter": "python",
   "pygments_lexer": "ipython3",
   "version": "3.10.6"
  },
  "orig_nbformat": 4,
  "vscode": {
   "interpreter": {
    "hash": "8fb8c00b874a38bb19c3f923f805854c81f5c6801701f18ec01019e33bb8cd9a"
   }
  }
 },
 "nbformat": 4,
 "nbformat_minor": 2
}
