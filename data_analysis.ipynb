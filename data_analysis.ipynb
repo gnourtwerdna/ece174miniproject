{
 "cells": [
  {
   "cell_type": "markdown",
   "metadata": {},
   "source": [
    "## Imports"
   ]
  },
  {
   "cell_type": "code",
   "execution_count": 1,
   "metadata": {},
   "outputs": [],
   "source": [
    "import numpy as np\n",
    "import util\n",
    "import LinearRegression"
   ]
  },
  {
   "cell_type": "markdown",
   "metadata": {},
   "source": [
    "## Data Loading and Processing"
   ]
  },
  {
   "cell_type": "code",
   "execution_count": 2,
   "metadata": {},
   "outputs": [],
   "source": [
    "X_train, y_train = util.load_data('data/mnist.mat')\n",
    "X_test, y_test = util.load_data('data/mnist.mat', train = False)\n",
    "X_train = util.normalize(X_train)\n",
    "X_test = util.normalize(X_test)\n",
    "X_train = util.append_bias(X_train)\n",
    "X_test = util.append_bias(X_test)"
   ]
  },
  {
   "cell_type": "markdown",
   "metadata": {},
   "source": [
    "## Binary Classification"
   ]
  },
  {
   "cell_type": "code",
   "execution_count": 3,
   "metadata": {},
   "outputs": [
    {
     "name": "stdout",
     "output_type": "stream",
     "text": [
      "Train Accuracy: 0.5323332017370707\n",
      "Test Accuracy: 0.5361702127659574\n",
      "Train Error: -6741\n",
      "Test Error: -1133\n"
     ]
    }
   ],
   "source": [
    "X_train_binary, y_train_binary = util.generate_binary_dataset(X_train, y_train, 0, 1)\n",
    "X_test_binary, y_test_binary = util.generate_binary_dataset(X_test, y_test, 0, 1)\n",
    "lr = LinearRegression.LinearRegression('binary')\n",
    "lr.fit(X_train_binary, y_train_binary)\n",
    "y_pred_binary_train = lr.predict(X_train_binary)\n",
    "y_pred_binary_test = lr.predict(X_test_binary)\n",
    "train_acc = util.accuracy_score(y_train_binary, y_pred_binary_train)\n",
    "test_acc = util.accuracy_score(y_test_binary, y_pred_binary_test)\n",
    "train_error = util.error(y_train_binary, y_pred_binary_train)\n",
    "test_error = util.error(y_test_binary, y_pred_binary_test)\n",
    "print('Train Accuracy: {}'.format(train_acc))\n",
    "print('Test Accuracy: {}'.format(test_acc))\n",
    "print('Train Error: {}'.format(train_error))\n",
    "print('Test Error: {}'.format(test_error))\n"
   ]
  },
  {
   "cell_type": "markdown",
   "metadata": {},
   "source": [
    "## One vs. Rest Multi-Class Classification"
   ]
  },
  {
   "cell_type": "code",
   "execution_count": 4,
   "metadata": {},
   "outputs": [
    {
     "ename": "AttributeError",
     "evalue": "'LinearRegression' object has no attribute 'accuracy_score'",
     "output_type": "error",
     "traceback": [
      "\u001b[0;31m---------------------------------------------------------------------------\u001b[0m",
      "\u001b[0;31mAttributeError\u001b[0m                            Traceback (most recent call last)",
      "Cell \u001b[0;32mIn [4], line 6\u001b[0m\n\u001b[1;32m      4\u001b[0m lr\u001b[39m.\u001b[39mfit(X_train, y_train_onehot)\n\u001b[1;32m      5\u001b[0m y_pred \u001b[39m=\u001b[39m lr\u001b[39m.\u001b[39mpredict(X_test)\n\u001b[0;32m----> 6\u001b[0m \u001b[39mprint\u001b[39m(\u001b[39m'\u001b[39m\u001b[39mTest Accuracy: \u001b[39m\u001b[39m{}\u001b[39;00m\u001b[39m'\u001b[39m\u001b[39m.\u001b[39mformat(lr\u001b[39m.\u001b[39;49maccuracy_score(y_test, y_pred)))\n",
      "\u001b[0;31mAttributeError\u001b[0m: 'LinearRegression' object has no attribute 'accuracy_score'"
     ]
    }
   ],
   "source": [
    "num_classes = 10\n",
    "y_train_onehot = util.onehot_encode(y_train, num_classes)\n",
    "lr = LinearRegression.LinearRegression('ovr')\n",
    "lr.fit(X_train, y_train_onehot)\n",
    "y_pred = lr.predict(X_test)\n",
    "print('Test Accuracy: {}'.format(lr.accuracy_score(y_test, y_pred)))"
   ]
  },
  {
   "cell_type": "markdown",
   "metadata": {},
   "source": [
    "## One vs. One Multi-Class Classification"
   ]
  },
  {
   "cell_type": "code",
   "execution_count": null,
   "metadata": {},
   "outputs": [
    {
     "name": "stdout",
     "output_type": "stream",
     "text": [
      "Accuracy: 0.1005049\n"
     ]
    }
   ],
   "source": [
    "votes = np.zeros((y_test.shape[0], 10))\n",
    "classifiers = util.generate_classifiers(num_classes)\n",
    "lr = LinearRegression.LinearRegression('binary')\n",
    "\n",
    "for classifier in classifiers:\n",
    "    X_train_temp, y_train_temp = util.generate_binary_dataset(X_train, y_train, classifier[0], classifier[1])\n",
    "    X_test_temp, y_test_temp = util.generate_binary_dataset(X_test, y_test, classifier[0], classifier[1])\n",
    "    idxs = util.generate_binary_index(X_test, y_test, classifier[0], classifier[1])\n",
    "    lr.fit(X_train_temp, y_train_temp)\n",
    "    y_pred = lr.predict(X_test_temp)\n",
    "\n",
    "    for pred, idx in zip(y_pred, idxs):\n",
    "        if pred.any() == 1:\n",
    "            votes[idx][classifier[0]] += 1\n",
    "        if pred.any() == -1:\n",
    "            votes[idx][classifier[1]] += 1\n",
    "\n",
    "y_pred = np.zeros((y_test.shape[0]))\n",
    "\n",
    "for i in range(votes.shape[0]):\n",
    "    y_pred[i] = np.random.choice(np.where(votes[i] == votes[i].max())[0])\n",
    "print('Accuracy: {}'.format(lr.accuracy_score(y_test, y_pred)))"
   ]
  },
  {
   "cell_type": "code",
   "execution_count": null,
   "metadata": {},
   "outputs": [],
   "source": []
  }
 ],
 "metadata": {
  "kernelspec": {
   "display_name": "Python 3.10.8 ('cse151b')",
   "language": "python",
   "name": "python3"
  },
  "language_info": {
   "codemirror_mode": {
    "name": "ipython",
    "version": 3
   },
   "file_extension": ".py",
   "mimetype": "text/x-python",
   "name": "python",
   "nbconvert_exporter": "python",
   "pygments_lexer": "ipython3",
   "version": "3.10.8"
  },
  "orig_nbformat": 4,
  "vscode": {
   "interpreter": {
    "hash": "0e3c32001deaba31d4df8f9c163693eec0a08c0eacdae219bf33803fd384c32c"
   }
  }
 },
 "nbformat": 4,
 "nbformat_minor": 2
}
